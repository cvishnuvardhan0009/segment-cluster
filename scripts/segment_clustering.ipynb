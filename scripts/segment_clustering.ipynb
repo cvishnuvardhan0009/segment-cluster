{
 "cells": [
  {
   "cell_type": "code",
   "execution_count": 4,
   "metadata": {},
   "outputs": [
    {
     "name": "stdout",
     "output_type": "stream",
     "text": [
      "Collecting geopy\n",
      "  Downloading https://files.pythonhosted.org/packages/0c/67/915668d0e286caa21a1da82a85ffe3d20528ec7212777b43ccd027d94023/geopy-2.1.0-py3-none-any.whl (112kB)\n",
      "Collecting geographiclib<2,>=1.49 (from geopy)\n",
      "  Downloading https://files.pythonhosted.org/packages/8b/62/26ec95a98ba64299163199e95ad1b0e34ad3f4e176e221c40245f211e425/geographiclib-1.50-py3-none-any.whl\n",
      "Installing collected packages: geographiclib, geopy\n",
      "Successfully installed geographiclib-1.50 geopy-2.1.0\n"
     ]
    }
   ],
   "source": [
    "!pip install geopy"
   ]
  },
  {
   "cell_type": "code",
   "execution_count": 5,
   "metadata": {},
   "outputs": [
    {
     "name": "stdout",
     "output_type": "stream",
     "text": [
      "Collecting folium==0.5.0\n",
      "  Downloading https://files.pythonhosted.org/packages/07/37/456fb3699ed23caa0011f8b90d9cad94445eddc656b601e6268090de35f5/folium-0.5.0.tar.gz (79kB)\n",
      "Collecting branca (from folium==0.5.0)\n",
      "  Downloading https://files.pythonhosted.org/packages/61/1f/570b0615c452265d57e4114e633231d6cd9b9d275256778a675681e4f711/branca-0.4.2-py3-none-any.whl\n",
      "Requirement already satisfied: jinja2 in c:\\users\\venkatesh\\anaconda3\\lib\\site-packages (from folium==0.5.0) (2.10.1)\n",
      "Requirement already satisfied: requests in c:\\users\\venkatesh\\anaconda3\\lib\\site-packages (from folium==0.5.0) (2.22.0)\n",
      "Requirement already satisfied: six in c:\\users\\venkatesh\\anaconda3\\lib\\site-packages (from folium==0.5.0) (1.12.0)\n",
      "Requirement already satisfied: MarkupSafe>=0.23 in c:\\users\\venkatesh\\anaconda3\\lib\\site-packages (from jinja2->folium==0.5.0) (1.1.1)\n",
      "Requirement already satisfied: idna<2.9,>=2.5 in c:\\users\\venkatesh\\anaconda3\\lib\\site-packages (from requests->folium==0.5.0) (2.8)\n",
      "Requirement already satisfied: urllib3!=1.25.0,!=1.25.1,<1.26,>=1.21.1 in c:\\users\\venkatesh\\anaconda3\\lib\\site-packages (from requests->folium==0.5.0) (1.24.2)\n",
      "Requirement already satisfied: chardet<3.1.0,>=3.0.2 in c:\\users\\venkatesh\\anaconda3\\lib\\site-packages (from requests->folium==0.5.0) (3.0.4)\n",
      "Requirement already satisfied: certifi>=2017.4.17 in c:\\users\\venkatesh\\anaconda3\\lib\\site-packages (from requests->folium==0.5.0) (2019.6.16)\n",
      "Building wheels for collected packages: folium\n",
      "  Building wheel for folium (setup.py): started\n",
      "  Building wheel for folium (setup.py): finished with status 'done'\n",
      "  Stored in directory: C:\\Users\\venkatesh\\AppData\\Local\\pip\\Cache\\wheels\\f8\\98\\ff\\954791afc47740d554f0d9e5885fa09dd60c2265d42578e665\n",
      "Successfully built folium\n",
      "Installing collected packages: branca, folium\n",
      "Successfully installed branca-0.4.2 folium-0.5.0\n"
     ]
    }
   ],
   "source": [
    "! pip install folium==0.5.0"
   ]
  },
  {
   "cell_type": "code",
   "execution_count": null,
   "metadata": {},
   "outputs": [],
   "source": []
  }
 ],
 "metadata": {
  "kernelspec": {
   "display_name": "Python 3",
   "language": "python",
   "name": "python3"
  },
  "language_info": {
   "codemirror_mode": {
    "name": "ipython",
    "version": 3
   },
   "file_extension": ".py",
   "mimetype": "text/x-python",
   "name": "python",
   "nbconvert_exporter": "python",
   "pygments_lexer": "ipython3",
   "version": "3.7.3"
  }
 },
 "nbformat": 4,
 "nbformat_minor": 2
}
